{
 "cells": [
  {
   "cell_type": "code",
   "execution_count": null,
   "id": "77b3ef4d",
   "metadata": {},
   "outputs": [],
   "source": [
    "import argparse\n",
    "import os\n",
    "\n",
    "import numpy as np\n",
    "import pandas as pd\n",
    "import matplotlib.pyplot as plt\n",
    "\n",
    "from scipy.interpolate import griddata\n",
    "from pykrige.ok import OrdinaryKriging\n",
    "\n",
    "parser = argparse.ArgumentParser('Seismic project', add_help=False)\n",
    "parser.add_argument('--data_folder', default='./data', type=str, help='Folder path to dataset')\n",
    "parser.add_argument('--magnetometry_folder', default='Datos_Magnetometria_Anomalia_Magnetica_de_Campo_Total', type=str, help='Folder path to magnetometry data')\n",
    "parser.add_argument('--gravimetry_folder', default='Datos_Gravimetria_Anomalia_Residual', type=str, help='Folder path to gravimetry data')\n",
    "args = parser.parse_args()\n",
    "\n",
    "## load data\n",
    "magnetometry_path = os.path.join(args.data_folder, args.magnetometry_folder, \"Puntos_Grilla_Anomalia_Magnetica_de_Campo_Total_SGC.xlsx\")\n",
    "gravimetry_path = os.path.join(args.data_folder, args.gravimetry_folder, \"Puntos_Grilla_Anomalia_Residual_SGC.xlsx\")\n",
    "\n",
    "df_magnetometry = pd.read_excel(magnetometry_path)\n",
    "df_gravimetry = pd.read_excel(gravimetry_path)\n",
    "\n",
    "## Visualization\n",
    "# Scatter plot of residual gravity anomaly\n",
    "plt.scatter(df_gravimetry[\"Este\"], df_gravimetry[\"Norte\"], c=df_gravimetry[\"Anomalia_Residual\"], cmap=\"seismic\")\n",
    "plt.colorbar(label=\"Residual Gravity (mGal)\")\n",
    "plt.xlabel(\"East (m)\")\n",
    "plt.ylabel(\"North (m)\")\n",
    "plt.title(\"Gravity Residual Anomaly Map\")\n",
    "plt.show()\n",
    "\n",
    "# Scatter plot of magnetic anomaly\n",
    "plt.scatter(df_magnetometry[\"Este\"], df_magnetometry[\"Norte\"], c=df_magnetometry[\"Anomalia_Magnetica_Campo_Total\"], cmap=\"viridis\")\n",
    "plt.colorbar(label=\"Magnetic Anomaly (nT)\")\n",
    "plt.xlabel(\"East (m)\")\n",
    "plt.ylabel(\"North (m)\")\n",
    "plt.title(\"Magnetic Total Field Map\")\n",
    "plt.show()"
   ]
  }
 ],
 "metadata": {
  "kernelspec": {
   "display_name": ".venv (3.12.10)",
   "language": "python",
   "name": "python3"
  },
  "language_info": {
   "name": "python",
   "version": "3.12.10"
  }
 },
 "nbformat": 4,
 "nbformat_minor": 5
}
